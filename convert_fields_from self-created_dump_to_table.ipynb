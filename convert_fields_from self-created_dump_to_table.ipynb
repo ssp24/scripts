{
 "cells": [
  {
   "cell_type": "code",
   "execution_count": 1,
   "id": "bdb40252",
   "metadata": {},
   "outputs": [],
   "source": [
    "#Import libraries: \n",
    "import pandas as pd\n",
    "from bs4 import BeautifulSoup as soup\n",
    "import lxml.etree as ET\n",
    "import unicodedata\n",
    "from tqdm import tqdm"
   ]
  },
  {
   "cell_type": "code",
   "execution_count": 4,
   "id": "2ccbb664",
   "metadata": {},
   "outputs": [],
   "source": [
    "#Load data from dump-file: \n",
    "with open(\"biene_dump.xml\", \"r\", encoding=\"utf-8\") as f:\n",
    "    result = f.readlines()\n",
    "content = \"\".join(result)\n",
    "\n",
    "#Parse data to xml:\n",
    "xml = soup(content,\"lxml\")"
   ]
  },
  {
   "cell_type": "code",
   "execution_count": 5,
   "id": "cc2d0e39",
   "metadata": {},
   "outputs": [
    {
     "name": "stdout",
     "output_type": "stream",
     "text": [
      "2034\n"
     ]
    }
   ],
   "source": [
    "#Find all bibliographic records in xml: \n",
    "records = xml.find_all('record', {'type':'Bibliographic'})\n",
    "\n",
    "#Print record at position 1 to double check that everything is fine:\n",
    "#print(records[1].prettify())\n",
    "\n",
    "print(len(records))"
   ]
  },
  {
   "cell_type": "code",
   "execution_count": 6,
   "id": "fad2c888",
   "metadata": {},
   "outputs": [],
   "source": [
    "#Define function to parse each record and extract only the datafields needed: \n",
    "def parse_record(record):\n",
    "    \n",
    "    ns = {\"marc\":\"http://www.loc.gov/MARC21/slim\"}\n",
    "    xml = ET.fromstring(unicodedata.normalize(\"NFC\", str(record)))\n",
    "      \n",
    "    #idn\n",
    "    idn = xml.xpath(\"marc:controlfield[@tag = '001']\", namespaces=ns)\n",
    "    try:\n",
    "        idn = idn[0].text\n",
    "    except:\n",
    "        idn = 'fail'\n",
    "    \n",
    "    # title\n",
    "    title = xml.xpath(\"marc:datafield[@tag = '245']/marc:subfield[@code = 'a']\", namespaces=ns)\n",
    "    try:\n",
    "        title = title[0].text\n",
    "    except:\n",
    "        title = \"unknown\"\n",
    "         \n",
    "    # subtitle\n",
    "    subtitle = xml.xpath(\"marc:datafield[@tag = '245']/marc:subfield[@code = 'b']\", namespaces=ns)\n",
    "    try:\n",
    "        subtitle = subtitle[0].text\n",
    "    except:\n",
    "        subtitle = \"unknown\"   \n",
    " \n",
    "    #date:\n",
    "    date1 = xml.xpath(\"marc:datafield[@tag = '264']/marc:subfield[@code = 'c']\", namespaces=ns)\n",
    "    date2 = xml.xpath(\"marc:controlfield[@tag = '008']\", namespaces=ns)\n",
    "        \n",
    "    if date1:\n",
    "        date = date1[0].text\n",
    "    elif date2: \n",
    "        date = date2[0].text  ## extract complete 008\n",
    "        date = date[7:11]     ## get only characters at positions 7-10\n",
    "    else:\n",
    "        date = \"none\"\n",
    "\n",
    "       \n",
    "    meta_dict = {\"idn\":idn, \"title\":title, \"subtitle\":subtitle, \"date\":date} #create dictionary\n",
    "    \n",
    "    return meta_dict"
   ]
  },
  {
   "cell_type": "code",
   "execution_count": 7,
   "id": "406cea1f",
   "metadata": {},
   "outputs": [
    {
     "name": "stderr",
     "output_type": "stream",
     "text": [
      " 99%|████████████████████████████████████████████████████████████████████████████▏| 2014/2034 [00:04<00:00, 537.49it/s]"
     ]
    }
   ],
   "source": [
    "#Parse each record to function above: \n",
    "pbar = tqdm(total=len(records))\n",
    "\n",
    "result = []\n",
    "for record in records:\n",
    "    result.append(parse_record(record))\n",
    "    pbar.update()"
   ]
  },
  {
   "cell_type": "code",
   "execution_count": 8,
   "id": "bd57104e",
   "metadata": {},
   "outputs": [
    {
     "data": {
      "text/html": [
       "<div>\n",
       "<style scoped>\n",
       "    .dataframe tbody tr th:only-of-type {\n",
       "        vertical-align: middle;\n",
       "    }\n",
       "\n",
       "    .dataframe tbody tr th {\n",
       "        vertical-align: top;\n",
       "    }\n",
       "\n",
       "    .dataframe thead th {\n",
       "        text-align: right;\n",
       "    }\n",
       "</style>\n",
       "<table border=\"1\" class=\"dataframe\">\n",
       "  <thead>\n",
       "    <tr style=\"text-align: right;\">\n",
       "      <th></th>\n",
       "      <th>idn</th>\n",
       "      <th>title</th>\n",
       "      <th>subtitle</th>\n",
       "      <th>date</th>\n",
       "    </tr>\n",
       "  </thead>\n",
       "  <tbody>\n",
       "    <tr>\n",
       "      <th>0</th>\n",
       "      <td>1278699708</td>\n",
       "      <td>Biene</td>\n",
       "      <td>Blankbook</td>\n",
       "      <td>2023</td>\n",
       "    </tr>\n",
       "    <tr>\n",
       "      <th>1</th>\n",
       "      <td>1283945827</td>\n",
       "      <td>Biene gib mir Honig, [Theaterstück]</td>\n",
       "      <td>unknown</td>\n",
       "      <td>2023</td>\n",
       "    </tr>\n",
       "    <tr>\n",
       "      <th>2</th>\n",
       "      <td>1283945835</td>\n",
       "      <td>Biene gib mir Honig, [Theaterstück]</td>\n",
       "      <td>unknown</td>\n",
       "      <td>2023</td>\n",
       "    </tr>\n",
       "    <tr>\n",
       "      <th>3</th>\n",
       "      <td>1283945843</td>\n",
       "      <td>Biene gib mir Honig, [Theaterstück]</td>\n",
       "      <td>unknown</td>\n",
       "      <td>2023</td>\n",
       "    </tr>\n",
       "    <tr>\n",
       "      <th>4</th>\n",
       "      <td>1283945908</td>\n",
       "      <td>Biene gib mir Honig, [Theaterstück] - beiliege...</td>\n",
       "      <td>unknown</td>\n",
       "      <td>2023</td>\n",
       "    </tr>\n",
       "    <tr>\n",
       "      <th>...</th>\n",
       "      <td>...</td>\n",
       "      <td>...</td>\n",
       "      <td>...</td>\n",
       "      <td>...</td>\n",
       "    </tr>\n",
       "    <tr>\n",
       "      <th>2029</th>\n",
       "      <td>1232876879</td>\n",
       "      <td>Postkarte</td>\n",
       "      <td>unknown</td>\n",
       "      <td>1959-1959</td>\n",
       "    </tr>\n",
       "    <tr>\n",
       "      <th>2030</th>\n",
       "      <td>1235784428</td>\n",
       "      <td>Briefkarte</td>\n",
       "      <td>unknown</td>\n",
       "      <td>1900-1999</td>\n",
       "    </tr>\n",
       "    <tr>\n",
       "      <th>2031</th>\n",
       "      <td>1237361656</td>\n",
       "      <td>Konvolut von Programmen seines Theaterstücks B...</td>\n",
       "      <td>unknown</td>\n",
       "      <td>1973</td>\n",
       "    </tr>\n",
       "    <tr>\n",
       "      <th>2032</th>\n",
       "      <td>1238096719</td>\n",
       "      <td>Konvolut von Zeitungsausschnitten u. Ä. mit Be...</td>\n",
       "      <td>unknown</td>\n",
       "      <td>1960</td>\n",
       "    </tr>\n",
       "    <tr>\n",
       "      <th>2033</th>\n",
       "      <td>1237473616</td>\n",
       "      <td>Konvolut von Szenenfotografien des Theaterstüc...</td>\n",
       "      <td>unknown</td>\n",
       "      <td>1900</td>\n",
       "    </tr>\n",
       "  </tbody>\n",
       "</table>\n",
       "<p>2034 rows × 4 columns</p>\n",
       "</div>"
      ],
      "text/plain": [
       "             idn                                              title  \\\n",
       "0     1278699708                                              Biene   \n",
       "1     1283945827                Biene gib mir Honig, [Theaterstück]   \n",
       "2     1283945835                Biene gib mir Honig, [Theaterstück]   \n",
       "3     1283945843                Biene gib mir Honig, [Theaterstück]   \n",
       "4     1283945908  Biene gib mir Honig, [Theaterstück] - beiliege...   \n",
       "...          ...                                                ...   \n",
       "2029  1232876879                                          Postkarte   \n",
       "2030  1235784428                                         Briefkarte   \n",
       "2031  1237361656  Konvolut von Programmen seines Theaterstücks B...   \n",
       "2032  1238096719  Konvolut von Zeitungsausschnitten u. Ä. mit Be...   \n",
       "2033  1237473616  Konvolut von Szenenfotografien des Theaterstüc...   \n",
       "\n",
       "       subtitle       date  \n",
       "0     Blankbook       2023  \n",
       "1       unknown       2023  \n",
       "2       unknown       2023  \n",
       "3       unknown       2023  \n",
       "4       unknown       2023  \n",
       "...         ...        ...  \n",
       "2029    unknown  1959-1959  \n",
       "2030    unknown  1900-1999  \n",
       "2031    unknown       1973  \n",
       "2032    unknown       1960  \n",
       "2033    unknown       1900  \n",
       "\n",
       "[2034 rows x 4 columns]"
      ]
     },
     "execution_count": 8,
     "metadata": {},
     "output_type": "execute_result"
    },
    {
     "name": "stderr",
     "output_type": "stream",
     "text": [
      "\r",
      "100%|█████████████████████████████████████████████████████████████████████████████| 2034/2034 [00:20<00:00, 537.49it/s]"
     ]
    }
   ],
   "source": [
    "#Convert result to dataframe:\n",
    "df = pd.DataFrame(result)\n",
    "df"
   ]
  },
  {
   "cell_type": "code",
   "execution_count": null,
   "id": "2dbeff0e",
   "metadata": {},
   "outputs": [],
   "source": [
    "#If needed: Search for a specific title in dataframe:\n",
    "df.query(\"title == 'Biene'\")"
   ]
  },
  {
   "cell_type": "code",
   "execution_count": null,
   "id": "1193a547",
   "metadata": {},
   "outputs": [],
   "source": [
    "df.to_csv(\"Biene_small_dataset.csv\", encoding=\"utf-8\")"
   ]
  },
  {
   "cell_type": "code",
   "execution_count": null,
   "id": "8717c9a3",
   "metadata": {},
   "outputs": [],
   "source": []
  },
  {
   "cell_type": "code",
   "execution_count": null,
   "id": "8c0e1ada",
   "metadata": {},
   "outputs": [],
   "source": []
  }
 ],
 "metadata": {
  "kernelspec": {
   "display_name": "Python 3 (ipykernel)",
   "language": "python",
   "name": "python3"
  },
  "language_info": {
   "codemirror_mode": {
    "name": "ipython",
    "version": 3
   },
   "file_extension": ".py",
   "mimetype": "text/x-python",
   "name": "python",
   "nbconvert_exporter": "python",
   "pygments_lexer": "ipython3",
   "version": "3.10.9"
  }
 },
 "nbformat": 4,
 "nbformat_minor": 5
}
