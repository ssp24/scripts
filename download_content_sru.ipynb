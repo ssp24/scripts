{
 "cells": [
  {
   "cell_type": "code",
   "execution_count": 1,
   "id": "94713a9c",
   "metadata": {},
   "outputs": [],
   "source": [
    "import requests\n",
    "import pandas as pd\n",
    "import lxml.etree as ET\n",
    "from bs4 import BeautifulSoup as soup\n",
    "import unicodedata\n",
    "from tqdm.notebook import tqdm\n",
    "from time import sleep\n",
    "import time"
   ]
  },
  {
   "cell_type": "code",
   "execution_count": 39,
   "id": "045da90f",
   "metadata": {},
   "outputs": [],
   "source": [
    "def dnb_sru(query):\n",
    "    \n",
    "    base_url = \"https://services.dnb.de/sru/dnb\"\n",
    "    params = {'recordSchema' : 'MARC21-xml',\n",
    "          'operation': 'searchRetrieve',\n",
    "          'version': '1.1',\n",
    "          'maximumRecords': '100',\n",
    "          'query': query\n",
    "         }\n",
    "    r = requests.get(base_url, params=params)\n",
    "    xml = soup(r.content, features=\"xml\")\n",
    "    records = xml.find_all('record', {'type':'Bibliographic'})\n",
    "    treffer = xml.find_all(\"numberOfRecords\")[0].text\n",
    "    treffer = int(treffer)\n",
    "    loops = int(treffer/100)\n",
    "    print(treffer)\n",
    "    \n",
    "     \n",
    "       \n",
    "    if len(records) < 100:\n",
    "        \n",
    "        return xml\n",
    "    \n",
    "    else:\n",
    "    \n",
    "        #Define XML-header and footer: \n",
    "        header = f'''<?xml version=\"1.0\" encoding=\"utf-8\"?><searchRetrieveResponse xmlns=\"http://www.loc.gov/zing/srw/\"> \n",
    "            <version>1.1</version><numberOfRecords>{str(treffer)}</numberOfRecords>\n",
    "            <records><record><recordSchema>MARC21-xml</recordSchema><recordPacking>xml</recordPacking><recordData>'''      \n",
    "        footer = f'''</recordData></record></records><echoedSearchRetrieveRequest><version>1.1</version>\n",
    "            <query>{query}</query><xQuery xmlns:xsi=\"http://www.w3.org/2001/XMLSchema-instance\" xsi:nil=\"true\"/>\n",
    "            <maximumRecords>100</maximumRecords><recordSchema>MARC21-xml</recordSchema></echoedSearchRetrieveRequest>\n",
    "            </searchRetrieveResponse>'''\n",
    "    \n",
    "        num_results = 100\n",
    "        i = 101\n",
    "        pbar = tqdm(total=loops)\n",
    "        while num_results == 100:\n",
    "            \n",
    "            params.update({'startRecord': i})\n",
    "            r = requests.get(base_url, params=params)\n",
    "            xml = soup(r.content, features=\"xml\")\n",
    "            new_records = xml.find_all('record', {'type':'Bibliographic'})\n",
    "            records+=new_records\n",
    "            i+=100\n",
    "            num_results = len(new_records)\n",
    "            pbar.update()\n",
    "            \n",
    "        recordlist = \"\"\n",
    "        for record in records:\n",
    "            recordlist += str(record)\n",
    "                  \n",
    "        xmlplus = header + recordlist + footer\n",
    "        \n",
    "        return xmlplus"
   ]
  },
  {
   "cell_type": "code",
   "execution_count": 40,
   "id": "249dbd3a",
   "metadata": {},
   "outputs": [
    {
     "name": "stdout",
     "output_type": "stream",
     "text": [
      "3923\n"
     ]
    },
    {
     "data": {
      "application/vnd.jupyter.widget-view+json": {
       "model_id": "c10d38428e8b44508406f8c4663a3deb",
       "version_major": 2,
       "version_minor": 0
      },
      "text/plain": [
       "  0%|          | 0/39 [00:00<?, ?it/s]"
      ]
     },
     "metadata": {},
     "output_type": "display_data"
    }
   ],
   "source": [
    "#myquery = dnb_sru('hss=(nat* and diss*) and jhr>=1900 and jhr<=1970')\n",
    "myquery = dnb_sru('tit=Klimawandel')"
   ]
  },
  {
   "cell_type": "code",
   "execution_count": 42,
   "id": "abaf2cda",
   "metadata": {},
   "outputs": [],
   "source": [
    "# simple dump as string\n",
    "with open('klima_dump.xml', 'w', encoding=\"utf-8\") as f:\n",
    "    f.write(myquery)"
   ]
  },
  {
   "cell_type": "code",
   "execution_count": 50,
   "id": "8820bb12",
   "metadata": {},
   "outputs": [],
   "source": [
    "# less simple dump in xml-structure\n",
    "\n",
    "# WARNING: NOT AT ALL GREAT TO USE - adds extra whitespaces in strings!!!\n",
    "\n",
    "for element in myquery:\n",
    "    with open('file.xml', 'a', encoding=\"utf-8\") as f:\n",
    "        f.write(element.prettify())"
   ]
  },
  {
   "cell_type": "code",
   "execution_count": null,
   "id": "bb808fd5",
   "metadata": {},
   "outputs": [],
   "source": []
  }
 ],
 "metadata": {
  "kernelspec": {
   "display_name": "Python 3 (ipykernel)",
   "language": "python",
   "name": "python3"
  },
  "language_info": {
   "codemirror_mode": {
    "name": "ipython",
    "version": 3
   },
   "file_extension": ".py",
   "mimetype": "text/x-python",
   "name": "python",
   "nbconvert_exporter": "python",
   "pygments_lexer": "ipython3",
   "version": "3.10.9"
  }
 },
 "nbformat": 4,
 "nbformat_minor": 5
}
